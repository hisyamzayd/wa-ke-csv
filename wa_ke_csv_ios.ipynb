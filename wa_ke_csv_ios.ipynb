{
 "cells": [
  {
   "cell_type": "code",
   "execution_count": 1,
   "id": "modified-gossip",
   "metadata": {},
   "outputs": [],
   "source": [
    "import os\n",
    "import pandas as pd\n",
    "import sys\n",
    "import re"
   ]
  },
  {
   "cell_type": "code",
   "execution_count": 33,
   "id": "limited-alfred",
   "metadata": {},
   "outputs": [],
   "source": [
    "file_list = os.listdir(os.getcwd()+'/raw data ios')"
   ]
  },
  {
   "cell_type": "code",
   "execution_count": 34,
   "id": "offensive-importance",
   "metadata": {},
   "outputs": [],
   "source": [
    "whatsapp_list = list()\n",
    "for file in file_list:\n",
    "    if file.endswith('.txt'):\n",
    "        whatsapp_list.append(file)\n",
    "if not whatsapp_list:\n",
    "    print('there is no whatsapp chat file')\n",
    "#     sys.exit()"
   ]
  },
  {
   "cell_type": "code",
   "execution_count": 41,
   "id": "failing-salon",
   "metadata": {},
   "outputs": [],
   "source": [
    "for file in whatsapp_list:\n",
    "    with open('raw data ios/'+file, 'r', encoding='utf-8') as f:\n",
    "        timestamp_list = list()\n",
    "        sender_list = list()\n",
    "        messages_list = list()\n",
    "        \n",
    "        chats = f.read()\n",
    "        chats = chats.strip()\n",
    "        chats = \" \".join(chats.split()) #remove excess space and new line\n",
    "        re_new_line = re.compile(\"(\\s)\\[\\d{1,2}/\\d{1,2}/\\d{1,2}\\s\\d{1,2}\\.\\d{1,2}\\.\\d{1,2}\\s*\\w*\\]\", re.S) \n",
    "        chats = re_new_line.sub(lambda m: m.group().replace(' ', \"\\n\", 1), chats) #space between chats replaced with new line\n",
    "        chats = chats.strip()\n",
    "        chats = chats.split('\\n')\n",
    "        for chat in chats:\n",
    "            decoded_chat = str(chat)\n",
    "            hasil = re.match(\"(\\[\\d{1,2}/\\d{1,2}/\\d{1,2}\\s\\d{1,2}\\.\\d{1,2}\\.\\d{1,2}\\s*\\w*\\])\\s([a-zA-Z\\s]+)\\:\\s([\\S\\s]*)\", decoded_chat)\n",
    "            if hasil:  \n",
    "                timestamp_list.append(hasil.group(1))\n",
    "                sender_list.append(hasil.group(2))\n",
    "                messages_list.append(hasil.group(3))\n",
    "                \n",
    "        df = pd.DataFrame(\n",
    "            list(zip(timestamp_list, sender_list, messages_list)),\n",
    "            columns=['timestamp', 'sender', 'messages']\n",
    "        )\n",
    "        nama_file = 'hasil csv/' + file.replace('.txt', '.csv')\n",
    "        df.to_csv(nama_file, index=False)"
   ]
  }
 ],
 "metadata": {
  "kernelspec": {
   "display_name": "Python 3",
   "language": "python",
   "name": "python3"
  },
  "language_info": {
   "codemirror_mode": {
    "name": "ipython",
    "version": 3
   },
   "file_extension": ".py",
   "mimetype": "text/x-python",
   "name": "python",
   "nbconvert_exporter": "python",
   "pygments_lexer": "ipython3",
   "version": "3.8.7"
  }
 },
 "nbformat": 4,
 "nbformat_minor": 5
}
